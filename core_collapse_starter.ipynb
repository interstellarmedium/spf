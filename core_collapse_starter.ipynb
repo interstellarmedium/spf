{
 "cells": [
  {
   "cell_type": "markdown",
   "metadata": {},
   "source": [
    "## ASTR777 Star and Planet Formation Problem Set 2\n",
    "### two layer slab model of core collapse"
   ]
  },
  {
   "cell_type": "code",
   "execution_count": 1,
   "metadata": {},
   "outputs": [],
   "source": [
    "import numpy as np\n",
    "import matplotlib.pyplot as plt\n",
    "from astropy import units as u\n",
    "from astropy import constants as c\n",
    "%matplotlib inline"
   ]
  },
  {
   "cell_type": "markdown",
   "metadata": {},
   "source": [
    "### radiative transfer equation from the lecture notes\n",
    "$$I_\\nu = B_\\nu(T_f)(1-e^{-\\tau_f}) + B_\\nu(T_b)(1-e^{-\\tau_b})e^{-\\tau_f}$$\n",
    "Note that the observed quantity is flux density,\n",
    "$$F_\\nu = I_\\nu \\Omega,$$\n",
    "where $\\Omega$ is the solid angle over which we observe the source."
   ]
  },
  {
   "cell_type": "code",
   "execution_count": 2,
   "metadata": {},
   "outputs": [],
   "source": [
    "# blackbody\n",
    "def Bnu(nu,T):\n",
    "    B = (2*c.h*(nu*u.Hz)**3 * ...\n",
    "    return B.cgs.value"
   ]
  },
  {
   "cell_type": "code",
   "execution_count": 3,
   "metadata": {},
   "outputs": [],
   "source": [
    "# the two-layer model\n",
    "def Inu(nu0, v, v_in, sigma, T_b, tau_b, T_f, tau_f):\n",
    "    nu = nu0 shifted by velocity\n",
    "    tau_nub = gaussian with peak tau_b\n",
    "    tau_nuf = gaussian with peak tau_f, shifted in velocity\n",
    "    Inu = (see equation above)\n",
    "    return(Inu)"
   ]
  },
  {
   "cell_type": "markdown",
   "metadata": {},
   "source": [
    "#### now call on above routines to plot spectra for different tau, v_in"
   ]
  }
 ],
 "metadata": {
  "kernelspec": {
   "display_name": "Python 3",
   "language": "python",
   "name": "python3"
  },
  "language_info": {
   "codemirror_mode": {
    "name": "ipython",
    "version": 3
   },
   "file_extension": ".py",
   "mimetype": "text/x-python",
   "name": "python",
   "nbconvert_exporter": "python",
   "pygments_lexer": "ipython3",
   "version": "3.9.13"
  }
 },
 "nbformat": 4,
 "nbformat_minor": 4
}
