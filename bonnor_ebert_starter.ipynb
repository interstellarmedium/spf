{
 "cells": [
  {
   "cell_type": "markdown",
   "metadata": {},
   "source": [
    "## ASTR777 Star and Planet Formation Problem Set 1 - STARTER NOTEBOOK\n",
    "### numerically integrate the Emden-Chandrasekhar equation and plot Bonnor-Ebert density profile\n",
    "$$\\frac{1}{x^2}\\frac{d}{dx}\\left(x^2\\frac{dy}{dx}\\right) = e^{-y}$$"
   ]
  },
  {
   "cell_type": "markdown",
   "metadata": {},
   "source": [
    "### follow the methodology described in the problem set\n",
    "expand the differential to derive,\n",
    "$$2x y' + x^2 y'' = x^2 e^{-y},$$\n",
    "where $y' = dy/dx, y'' = d^2y/dx^2$. This gives a prescription for $y''$ which we can use in Taylor expansions,\n",
    "$$y(x+\\Delta x) = y(x) + y'(x)\\Delta x + y''(x) \\Delta x^2/2,$$\n",
    "$$y'(x+\\Delta x) = y'(x) + y''(x)\\Delta x.$$\n",
    "We then step out from $x=0$ to determine $y(x)$. The initial conditions are $y(0)=y'(0)=0$ (gravitational potential is zero and symmetric about the origin). We also need $y''(0)$ which is a bit tricky but we integrate once to determine $x^2y'=\\int x^2e^{-y}dx\\simeq x^3/3$ where the last approximation is for near the origin. This gives $y'\\simeq x/3$ which implies $y''(0)=1/3$."
   ]
  },
  {
   "cell_type": "code",
   "execution_count": 1,
   "metadata": {},
   "outputs": [],
   "source": [
    "import numpy as np\n",
    "import matplotlib.pyplot as plt\n",
    "import scipy.integrate as integrate\n",
    "import scipy.interpolate as interpolate\n",
    "%matplotlib inline"
   ]
  },
  {
   "cell_type": "code",
   "execution_count": 2,
   "metadata": {},
   "outputs": [],
   "source": [
    "def ec_integrate1(x):\n",
    "    # solve Emden-Chandrasekhar equation using the way I describe in the problem set\n",
    "    nsteps = x.size\n",
    "    y = np.zeros(nsteps)\n",
    "    yp = np.zeros(nsteps)\n",
    "    yp2 = np.zeros(nsteps)\n",
    "\n",
    "    # initial conditions (y, yp are already zero)\n",
    "    yp2[0] = 1/3\n",
    "\n",
    "    # integrate outwards step by step (allowing for variable step size)\n",
    "    for i in np.arange(1,nsteps):\n",
    "        dx = x[i] - x[i-1]\n",
    "        y[i] = y[i-1] + ...\n",
    "        yp[i] = yp[i-1] + ...\n",
    "        yp2[i] = ...\n",
    "\n",
    "    return(y)"
   ]
  },
  {
   "cell_type": "code",
   "execution_count": 4,
   "metadata": {},
   "outputs": [],
   "source": [
    "def plot_ec():\n",
    "    # plot solution to Emden-Chandraskehar\n",
    "    nsteps = 1000\n",
    "    xmax = 1e4\n",
    "    x = np.logspace(-2, np.log10(xmax), nsteps)\n",
    "    y = ec_integrate1(x)\n",
    "\n",
    "    fig = plt.figure(figsize=(6,4))\n",
    "    ax1 = fig.add_subplot(121)\n",
    "    ax1.set_xlabel(r'$x$', fontsize=14)\n",
    "    ax1.set_ylabel(r'$y$', fontsize=14)\n",
    "    ax1.plot(x, y, 'k-')\n",
    "\n",
    "    ax2 = fig.add_subplot(122)\n",
    "    ax2.set_xlim(1e-2, 1e4)\n",
    "    ax2.set_ylim(1e-5,30)\n",
    "    ax2.set_xscale('log')\n",
    "    ax2.set_yscale('log')\n",
    "    ax2.set_xlabel(r'$x$', fontsize=14)\n",
    "    ax2.plot(x, y, 'k-')\n",
    "\n",
    "    fig.tight_layout() \n",
    "    plt.savefig('ec_solution.pdf')"
   ]
  },
  {
   "cell_type": "code",
   "execution_count": null,
   "metadata": {},
   "outputs": [],
   "source": [
    "# part 1\n",
    "plot_ec()"
   ]
  },
  {
   "cell_type": "code",
   "execution_count": 6,
   "metadata": {},
   "outputs": [],
   "source": [
    "def plot_profiles():\n",
    "    # plot Bonnor-Ebert density profile\n",
    "    nsteps = 1000\n",
    "    xmax = 1e4\n",
    "    x = np.logspace(-2, np.log10(xmax), nsteps)\n",
    "    y = ec_integrate1(x)\n",
    "\n",
    "    fig = plt.figure(figsize=(6,4))\n",
    "    ax = fig.add_subplot(111)\n",
    "\n",
    "    ax.set_xlim(0.002,1.0)\n",
    "    ax.set_ylim(1e8,1e13)\n",
    "    ax.set_xscale('log')\n",
    "    ax.set_yscale('log')\n",
    "    ax.set_xlabel(r'${\\rm Radius}\\ {\\rm (pc)}$', fontsize=14)\n",
    "    ax.set_ylabel(r'${\\rm H_2\\ density}\\ {\\rm (m^{-3})}$', fontsize=14)\n",
    "\n",
    "    T = 10                                   # isothermal temperature (K)\n",
    "\n",
    "    n0 = np.array([1,10,100,1000])*1e9       # central density in m-3\n",
    "    ls = ['-','-','-','-']\n",
    "    lw = [2,2,2,2]\n",
    "    alpha = [0.3,0.3,0.3,0.3]\n",
    "\n",
    "    for i in range(len(n0)):\n",
    "        r = x * you_determine_scale_factor * np.sqrt(T/n0[i])\n",
    "        n = n0[i] / np.exp(y)\n",
    "        ax.plot(r, n, linestyle=ls[i], color='k', lw=lw[i], alpha=alpha[i], label='Finite')\n",
    "\n",
    "    # singular isothermal sphere\n",
    "    r = np.logspace(-3,1,2)\n",
    "    SIS_profile = ...\n",
    "    ax.plot(r, SIS_profile, 'k--', lw=2, label='Singular')\n",
    "    #ax.legend()\n",
    "\n",
    "    # make the plot look nice\n",
    "    x_labels = ['0.01','0.1','1']\n",
    "    x_loc = np.array([float(x) for x in x_labels])\n",
    "    ax.set_xticks(x_loc)\n",
    "    ax.set_xticklabels(x_labels)\n",
    "\n",
    "    fig.tight_layout() \n",
    "    plt.savefig('bonnor_ebert_profiles.pdf')"
   ]
  },
  {
   "cell_type": "code",
   "execution_count": null,
   "metadata": {},
   "outputs": [],
   "source": [
    "# part 2\n",
    "plot_profiles()"
   ]
  },
  {
   "cell_type": "code",
   "execution_count": 8,
   "metadata": {},
   "outputs": [],
   "source": [
    "def plot_mass():\n",
    "    # plot mass for given P_ext\n",
    "    nsteps = 10000\n",
    "    xmax = 1e4\n",
    "    x = np.logspace(-4, np.log10(xmax), nsteps)\n",
    "    y = ec_integrate1(x)\n",
    "\n",
    "    T = 10              # isothermal temperature (K)\n",
    "    r0 = ...            # radial scale factor in pc\n",
    "    n_ext = 8e9/T       # exterior density in m-3\n",
    "\n",
    "    n0 = np.logspace(np.log10(1.1*n_ext),12,300)\n",
    "    ndens = n0.size\n",
    "    r_ext = np.zeros(ndens)\n",
    "    m_ext = np.zeros(ndens)\n",
    "    m_tot = np.zeros(ndens)\n",
    "    for i in range(ndens):\n",
    "        y_ext = np.log(n0[i]/n_ext)\n",
    "        x_ext = where density matches boundary condition\n",
    "        k = np.where(x < x_ext)[0]\n",
    "        m_ext[i] = some_factor * integral of (x[k]**2 * np.exp(-y[k])) with respect to x\n",
    "\n",
    "    # calculate the max pressure contrast\n",
    "    Pratio = ...\n",
    "    imax = argmax...\n",
    "    Pratio_max = ...\n",
    "    Mass_max = ...\n",
    "\n",
    "    # plot results\n",
    "    fig = plt.figure(figsize=(6,4))\n",
    "    ax1 = fig.add_subplot(111)\n",
    "\n",
    "    ax1.set_xlim(1,3e2)\n",
    "    ax1.set_xscale('log')\n",
    "    ax1.set_xlabel(r'$\\rho_{\\rm cen}/\\rho_{\\rm amb}$', fontsize=14)\n",
    "    ax1.set_ylim(0,6.5)\n",
    "    ax1.set_ylabel(r'${\\rm Mass}\\ (M_\\odot)$', fontsize=14)\n",
    "\n",
    "    ax1.plot(Pressure_ratio, Mass, 'k-', lw=2, alpha=0.3)\n",
    "\n",
    "    fig.tight_layout() \n",
    "    plt.savefig('bonnor_ebert_mass.pdf')"
   ]
  },
  {
   "cell_type": "code",
   "execution_count": null,
   "metadata": {},
   "outputs": [],
   "source": [
    "# part 3\n",
    "plot_mass()"
   ]
  },
  {
   "cell_type": "code",
   "execution_count": null,
   "metadata": {},
   "outputs": [],
   "source": []
  }
 ],
 "metadata": {
  "kernelspec": {
   "display_name": "Python 3",
   "language": "python",
   "name": "python3"
  },
  "language_info": {
   "codemirror_mode": {
    "name": "ipython",
    "version": 3
   },
   "file_extension": ".py",
   "mimetype": "text/x-python",
   "name": "python",
   "nbconvert_exporter": "python",
   "pygments_lexer": "ipython3",
   "version": "3.9.13"
  }
 },
 "nbformat": 4,
 "nbformat_minor": 4
}
