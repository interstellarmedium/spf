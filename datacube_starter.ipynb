{
 "cells": [
  {
   "cell_type": "markdown",
   "metadata": {},
   "source": [
    "# ASTR777 Star and Planet Formation Problem Set 1\n",
    "## explore the IRAM 30m Orion data cube of 12CO and 13CO from https://www.iram.fr/ILPA/LP014"
   ]
  },
  {
   "cell_type": "code",
   "execution_count": null,
   "metadata": {},
   "outputs": [],
   "source": [
    "import matplotlib.pyplot as plt\n",
    "import numpy as np\n",
    "%matplotlib inline"
   ]
  },
  {
   "cell_type": "code",
   "execution_count": null,
   "metadata": {},
   "outputs": [],
   "source": [
    "# basic modules for reading data and plotting images\n",
    "from astropy.io import ascii, fits\n",
    "from astropy.wcs import WCS\n",
    "from astropy.visualization import (ImageNormalize, MinMaxInterval, SqrtStretch, LogStretch, AsinhStretch)"
   ]
  },
  {
   "cell_type": "markdown",
   "metadata": {},
   "source": [
    "## read in the data and examine header"
   ]
  },
  {
   "cell_type": "code",
   "execution_count": null,
   "metadata": {},
   "outputs": [],
   "source": [
    "# read in the fits file and get some basic information\n",
    "hdu = fits.open('iram30m/orionA_12co.fits')\n",
    "hdu.info()"
   ]
  },
  {
   "cell_type": "code",
   "execution_count": null,
   "metadata": {},
   "outputs": [],
   "source": [
    "# create data array and header\n",
    "im = hdu[0].data\n",
    "hd = hdu[0].header"
   ]
  },
  {
   "cell_type": "code",
   "execution_count": null,
   "metadata": {},
   "outputs": [],
   "source": [
    "# look at the header\n",
    "# note its RA-DEC-velocity in deg, deg, m/s\n",
    "# and units of K for antenna temperature (equivalent to intensity)\n",
    "print(hd)"
   ]
  },
  {
   "cell_type": "markdown",
   "metadata": {},
   "source": [
    "## plot a map of the peak temperature"
   ]
  },
  {
   "cell_type": "code",
   "execution_count": null,
   "metadata": {},
   "outputs": [],
   "source": [
    "# get the peak value at each ra-dec position (note that velocity is axis 0 of the python array)\n",
    "# note that there are nan values so you need to handle these\n",
    "peak = numpy function to find the maximum of the cube along the spectral axis"
   ]
  },
  {
   "cell_type": "code",
   "execution_count": null,
   "metadata": {},
   "outputs": [],
   "source": [
    "# plot the peak temperature as a 2D map\n",
    "fig = plt.figure\n",
    "ax = fig.add_subplot\n",
    "ax.imshow(peak)"
   ]
  },
  {
   "cell_type": "code",
   "execution_count": null,
   "metadata": {},
   "outputs": [],
   "source": [
    "# make the origin in the lower left so that the maps looks more like on the website\n",
    "# https://www.iram-institute.org/EN/content-page-378-7-158-240-378-0.html\n",
    "# scale the image on an asinh scale using https://docs.astropy.org/en/stable/visualization/normalization.html\n",
    "fig = plt.figure\n",
    "ax = fig.add_subplot\n",
    "norm = ImageNormalize(peak, interval=MinMaxInterval(), stretch=)\n",
    "ax.imshow(peak, origin=, norm=norm, cmap='gist_heat')"
   ]
  },
  {
   "cell_type": "code",
   "execution_count": null,
   "metadata": {},
   "outputs": [],
   "source": [
    "# plot again but now with offset equatorial coordinates rather than pixels\n",
    "# and create a colorbar for the intensity scale\n",
    "dra  = function of hd['NAXIS1'], hd['CRPIX1'], hd['CDELT1']\n",
    "ddec = function of hd['NAXIS2'], hd['CRPIX2'], hd['CDELT2']\n",
    "extent =[np.max(dra), np.min(dra), np.min(ddec), np.max(ddec)]\n",
    "\n",
    "fig = plt.figure(figsize=(10,10))\n",
    "ax = fig.add_subplot(111)\n",
    "norm = ImageNormalize(peak, vmin=, vmax=, stretch=)\n",
    "ax.imshow(peak, ..., extent=extent)\n",
    "ax.set_xlabel(r\"$\\Delta\\alpha ('')$\", fontsize=14)\n",
    "ax.set_ylabel(r\"$\\Delta\\delta ('')$\", fontsize=14)\n",
    "\n",
    "c = plt.colorbar\n",
    "c.set_label"
   ]
  },
  {
   "cell_type": "markdown",
   "metadata": {},
   "source": [
    "## plot channel maps and write them out to make a movie"
   ]
  },
  {
   "cell_type": "code",
   "execution_count": null,
   "metadata": {},
   "outputs": [],
   "source": [
    "# first define velocity axis (ote that python arrays start at index zero but convention for FITS is to start at 1)\n",
    "v = function of hd['CRVAL3'], hd['NAXIS3'], hd['CRPIX3'], hd['CDELT3']\n",
    "# check units\n",
    "\n",
    "# range of indices (chosen by eye playing around with other image visualization tools)\n",
    "k0 = 215\n",
    "k1 = 245\n",
    "nplot = k1-k0+1\n",
    "\n",
    "# set up a grid of panels using either plt.subplot or matplotlib gridspec\n",
    "\n",
    "for n in range(nplot):\n",
    "    # define ax\n",
    "    im1 = im[cube_index, :, :]\n",
    "    norm = ImageNormalize(im1, vmin=, vmax=, stretch=)\n",
    "    ax.imshow(im1...)\n",
    "    ax.text(0.02, 0.87, f'{v[cube_index]:6.2f}', fontsize=10, transform = ax.transAxes)"
   ]
  },
  {
   "cell_type": "code",
   "execution_count": null,
   "metadata": {},
   "outputs": [],
   "source": [
    "# make a movie of the channel maps, expanded a bit in range\n",
    "# I did this by creating a bunch of png and then stitching them together using ffmpeg as a unix command outside the notebook\n",
    "# but perhaps you can do this using matplotlib animator"
   ]
  },
  {
   "cell_type": "markdown",
   "metadata": {},
   "source": [
    "## now look at spectra, i.e., temperature vs velocity, and calculate Mach number"
   ]
  },
  {
   "cell_type": "code",
   "execution_count": null,
   "metadata": {},
   "outputs": [],
   "source": [
    "# basic first try \n",
    "Tsum = numpy sum of image along the spatial axes\n",
    "plt.plot(v, Tsum)"
   ]
  },
  {
   "cell_type": "code",
   "execution_count": null,
   "metadata": {},
   "outputs": [],
   "source": [
    "# lots of bad pixels corrupting things\n",
    "# let's just concentrate on the center - this is a bit of a hack :)\n",
    "map_region = [-500, 500, -500, 500]\n",
    "imax = np.where(ra > map_region[0])[0][-1]\n",
    "imin = np.where(ra < map_region[1])[0][0]\n",
    "jmin = np.where(dec > map_region[2])[0][0]\n",
    "jmax = np.where(dec < map_region[3])[0][-1]\n",
    "\n",
    "Tsum = sum of image along the spatial axes between imin:imax, jmin:jmax\n",
    "Tave = Tsum / (imax-imin) / (jmax-jmin)\n",
    "plt.plot(v, Tave)\n",
    "plt.xlim(-5,22)\n",
    "plt.ylim(-3,30)"
   ]
  },
  {
   "cell_type": "code",
   "execution_count": null,
   "metadata": {},
   "outputs": [],
   "source": [
    "# measure systemic velocity and linewidth\n",
    "signal = (v > something) & (v < something)\n",
    "# v_mean = temperature weighted mean of v within signal region\n",
    "# v_sigma = temperature weighted standard deviation of v within signal region\n",
    "print(f'Mean velocity = {v_mean:5.2f} km/s')\n",
    "print(f'FWHM = {2.355*v_sigma:5.2f} km/s')"
   ]
  },
  {
   "cell_type": "code",
   "execution_count": null,
   "metadata": {},
   "outputs": [],
   "source": [
    "# compare with thermal linewidth\n",
    "from astropy import units as u\n",
    "from astropy import constants as c\n",
    "T_kin = 10 * u.K\n",
    "v_thermal = some function of T and mass with fundamental constants\n",
    "print(f'Thermal velocity dispersion = {v_thermal.si:5.2f}')"
   ]
  },
  {
   "cell_type": "code",
   "execution_count": null,
   "metadata": {},
   "outputs": [],
   "source": [
    "# Mach number of cloud\n",
    "M = v_sigma / (v_thermal.si.value/1000)\n",
    "print(f'Mach number = {M:5.2f}')"
   ]
  },
  {
   "cell_type": "markdown",
   "metadata": {},
   "source": [
    "## calculate virial mass"
   ]
  },
  {
   "cell_type": "code",
   "execution_count": null,
   "metadata": {},
   "outputs": [],
   "source": [
    "dist = 412        # distance to Trapezium Cluster in pc\n",
    "R =               # \"radius\" of the region over which we measured the spectrum in au\n",
    "Mvir = some function of R, v_sigma, and G\n",
    "print(f'Virial mass = {int((Mvir/c.M_sun).decompose()):5d} solar masses')"
   ]
  },
  {
   "cell_type": "code",
   "execution_count": null,
   "metadata": {},
   "outputs": [],
   "source": []
  }
 ],
 "metadata": {
  "kernelspec": {
   "display_name": "Python 3",
   "language": "python",
   "name": "python3"
  },
  "language_info": {
   "codemirror_mode": {
    "name": "ipython",
    "version": 3
   },
   "file_extension": ".py",
   "mimetype": "text/x-python",
   "name": "python",
   "nbconvert_exporter": "python",
   "pygments_lexer": "ipython3",
   "version": "3.8.3"
  }
 },
 "nbformat": 4,
 "nbformat_minor": 4
}
